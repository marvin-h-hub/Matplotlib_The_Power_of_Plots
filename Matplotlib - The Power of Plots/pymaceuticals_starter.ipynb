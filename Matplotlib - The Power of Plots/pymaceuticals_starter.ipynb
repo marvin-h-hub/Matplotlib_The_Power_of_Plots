{
 "cells": [
  {
   "cell_type": "markdown",
   "metadata": {},
   "source": [
    "## Observations and Insights"
   ]
  },
  {
   "cell_type": "markdown",
   "metadata": {},
   "source": [
    "1.  Capomulin is not a high variance drug, sharing the low variance spot with Ramicane.  Ketapril and Naftisol are the highest variance drugs.\n",
    "2.  The 4 testing regimens (Capmoulin, Ramicane, Infubinol, Ceftamin) have no major outliers.\n",
    "3.  There is a strong positive correlation between Mouse Weight and Average Tumor volume (0.84).  Makes sense since greater weights lead to the potential for larger masses."
   ]
  },
  {
   "cell_type": "markdown",
   "metadata": {},
   "source": [
    "## Dependencies and starter code"
   ]
  },
  {
   "cell_type": "code",
   "execution_count": 1,
   "metadata": {},
   "outputs": [
    {
     "data": {
      "text/html": [
       "<div>\n",
       "<style scoped>\n",
       "    .dataframe tbody tr th:only-of-type {\n",
       "        vertical-align: middle;\n",
       "    }\n",
       "\n",
       "    .dataframe tbody tr th {\n",
       "        vertical-align: top;\n",
       "    }\n",
       "\n",
       "    .dataframe thead th {\n",
       "        text-align: right;\n",
       "    }\n",
       "</style>\n",
       "<table border=\"1\" class=\"dataframe\">\n",
       "  <thead>\n",
       "    <tr style=\"text-align: right;\">\n",
       "      <th></th>\n",
       "      <th>Mouse ID</th>\n",
       "      <th>Drug Regimen</th>\n",
       "      <th>Sex</th>\n",
       "      <th>Age_months</th>\n",
       "      <th>Weight (g)</th>\n",
       "      <th>Timepoint</th>\n",
       "      <th>Tumor Volume (mm3)</th>\n",
       "      <th>Metastatic Sites</th>\n",
       "    </tr>\n",
       "  </thead>\n",
       "  <tbody>\n",
       "    <tr>\n",
       "      <th>0</th>\n",
       "      <td>k403</td>\n",
       "      <td>Ramicane</td>\n",
       "      <td>Male</td>\n",
       "      <td>21</td>\n",
       "      <td>16</td>\n",
       "      <td>0</td>\n",
       "      <td>45.000000</td>\n",
       "      <td>0</td>\n",
       "    </tr>\n",
       "    <tr>\n",
       "      <th>1</th>\n",
       "      <td>k403</td>\n",
       "      <td>Ramicane</td>\n",
       "      <td>Male</td>\n",
       "      <td>21</td>\n",
       "      <td>16</td>\n",
       "      <td>5</td>\n",
       "      <td>38.825898</td>\n",
       "      <td>0</td>\n",
       "    </tr>\n",
       "    <tr>\n",
       "      <th>2</th>\n",
       "      <td>k403</td>\n",
       "      <td>Ramicane</td>\n",
       "      <td>Male</td>\n",
       "      <td>21</td>\n",
       "      <td>16</td>\n",
       "      <td>10</td>\n",
       "      <td>35.014271</td>\n",
       "      <td>1</td>\n",
       "    </tr>\n",
       "    <tr>\n",
       "      <th>3</th>\n",
       "      <td>k403</td>\n",
       "      <td>Ramicane</td>\n",
       "      <td>Male</td>\n",
       "      <td>21</td>\n",
       "      <td>16</td>\n",
       "      <td>15</td>\n",
       "      <td>34.223992</td>\n",
       "      <td>1</td>\n",
       "    </tr>\n",
       "    <tr>\n",
       "      <th>4</th>\n",
       "      <td>k403</td>\n",
       "      <td>Ramicane</td>\n",
       "      <td>Male</td>\n",
       "      <td>21</td>\n",
       "      <td>16</td>\n",
       "      <td>20</td>\n",
       "      <td>32.997729</td>\n",
       "      <td>1</td>\n",
       "    </tr>\n",
       "    <tr>\n",
       "      <th>...</th>\n",
       "      <td>...</td>\n",
       "      <td>...</td>\n",
       "      <td>...</td>\n",
       "      <td>...</td>\n",
       "      <td>...</td>\n",
       "      <td>...</td>\n",
       "      <td>...</td>\n",
       "      <td>...</td>\n",
       "    </tr>\n",
       "    <tr>\n",
       "      <th>1888</th>\n",
       "      <td>z969</td>\n",
       "      <td>Naftisol</td>\n",
       "      <td>Male</td>\n",
       "      <td>9</td>\n",
       "      <td>30</td>\n",
       "      <td>25</td>\n",
       "      <td>63.145652</td>\n",
       "      <td>2</td>\n",
       "    </tr>\n",
       "    <tr>\n",
       "      <th>1889</th>\n",
       "      <td>z969</td>\n",
       "      <td>Naftisol</td>\n",
       "      <td>Male</td>\n",
       "      <td>9</td>\n",
       "      <td>30</td>\n",
       "      <td>30</td>\n",
       "      <td>65.841013</td>\n",
       "      <td>3</td>\n",
       "    </tr>\n",
       "    <tr>\n",
       "      <th>1890</th>\n",
       "      <td>z969</td>\n",
       "      <td>Naftisol</td>\n",
       "      <td>Male</td>\n",
       "      <td>9</td>\n",
       "      <td>30</td>\n",
       "      <td>35</td>\n",
       "      <td>69.176246</td>\n",
       "      <td>4</td>\n",
       "    </tr>\n",
       "    <tr>\n",
       "      <th>1891</th>\n",
       "      <td>z969</td>\n",
       "      <td>Naftisol</td>\n",
       "      <td>Male</td>\n",
       "      <td>9</td>\n",
       "      <td>30</td>\n",
       "      <td>40</td>\n",
       "      <td>70.314904</td>\n",
       "      <td>4</td>\n",
       "    </tr>\n",
       "    <tr>\n",
       "      <th>1892</th>\n",
       "      <td>z969</td>\n",
       "      <td>Naftisol</td>\n",
       "      <td>Male</td>\n",
       "      <td>9</td>\n",
       "      <td>30</td>\n",
       "      <td>45</td>\n",
       "      <td>73.867845</td>\n",
       "      <td>4</td>\n",
       "    </tr>\n",
       "  </tbody>\n",
       "</table>\n",
       "<p>1893 rows × 8 columns</p>\n",
       "</div>"
      ],
      "text/plain": [
       "     Mouse ID Drug Regimen   Sex  Age_months  Weight (g)  Timepoint  \\\n",
       "0        k403     Ramicane  Male          21          16          0   \n",
       "1        k403     Ramicane  Male          21          16          5   \n",
       "2        k403     Ramicane  Male          21          16         10   \n",
       "3        k403     Ramicane  Male          21          16         15   \n",
       "4        k403     Ramicane  Male          21          16         20   \n",
       "...       ...          ...   ...         ...         ...        ...   \n",
       "1888     z969     Naftisol  Male           9          30         25   \n",
       "1889     z969     Naftisol  Male           9          30         30   \n",
       "1890     z969     Naftisol  Male           9          30         35   \n",
       "1891     z969     Naftisol  Male           9          30         40   \n",
       "1892     z969     Naftisol  Male           9          30         45   \n",
       "\n",
       "      Tumor Volume (mm3)  Metastatic Sites  \n",
       "0              45.000000                 0  \n",
       "1              38.825898                 0  \n",
       "2              35.014271                 1  \n",
       "3              34.223992                 1  \n",
       "4              32.997729                 1  \n",
       "...                  ...               ...  \n",
       "1888           63.145652                 2  \n",
       "1889           65.841013                 3  \n",
       "1890           69.176246                 4  \n",
       "1891           70.314904                 4  \n",
       "1892           73.867845                 4  \n",
       "\n",
       "[1893 rows x 8 columns]"
      ]
     },
     "execution_count": 1,
     "metadata": {},
     "output_type": "execute_result"
    }
   ],
   "source": [
    "# Dependencies and Setup\n",
    "import matplotlib.pyplot as plt\n",
    "import pandas as pd\n",
    "import scipy.stats as st\n",
    "from scipy.stats import linregress\n",
    "import numpy as np\n",
    "\n",
    "# Study data files\n",
    "mouse_metadata = \"data/Mouse_metadata.csv\"\n",
    "study_results = \"data/Study_results.csv\"\n",
    "\n",
    "# Read the mouse data and the study results\n",
    "mouse_metadata = pd.read_csv(mouse_metadata)\n",
    "study_results = pd.read_csv(study_results)\n",
    "\n",
    "# Combine the data into a single dataset\n",
    "df = pd.merge(mouse_metadata, study_results, on='Mouse ID')\n",
    "df"
   ]
  },
  {
   "cell_type": "markdown",
   "metadata": {},
   "source": [
    "## Summary statistics"
   ]
  },
  {
   "cell_type": "code",
   "execution_count": 2,
   "metadata": {},
   "outputs": [
    {
     "data": {
      "text/html": [
       "<div>\n",
       "<style scoped>\n",
       "    .dataframe tbody tr th:only-of-type {\n",
       "        vertical-align: middle;\n",
       "    }\n",
       "\n",
       "    .dataframe tbody tr th {\n",
       "        vertical-align: top;\n",
       "    }\n",
       "\n",
       "    .dataframe thead th {\n",
       "        text-align: right;\n",
       "    }\n",
       "</style>\n",
       "<table border=\"1\" class=\"dataframe\">\n",
       "  <thead>\n",
       "    <tr style=\"text-align: right;\">\n",
       "      <th></th>\n",
       "      <th>Mean</th>\n",
       "      <th>Median</th>\n",
       "      <th>Sd</th>\n",
       "      <th>SEM</th>\n",
       "    </tr>\n",
       "    <tr>\n",
       "      <th>Drug Regimen</th>\n",
       "      <th></th>\n",
       "      <th></th>\n",
       "      <th></th>\n",
       "      <th></th>\n",
       "    </tr>\n",
       "  </thead>\n",
       "  <tbody>\n",
       "    <tr>\n",
       "      <th>Capomulin</th>\n",
       "      <td>40.675741</td>\n",
       "      <td>41.557809</td>\n",
       "      <td>4.994774</td>\n",
       "      <td>0.329346</td>\n",
       "    </tr>\n",
       "    <tr>\n",
       "      <th>Ceftamin</th>\n",
       "      <td>52.591172</td>\n",
       "      <td>51.776157</td>\n",
       "      <td>6.268188</td>\n",
       "      <td>0.469821</td>\n",
       "    </tr>\n",
       "    <tr>\n",
       "      <th>Infubinol</th>\n",
       "      <td>52.884795</td>\n",
       "      <td>51.820584</td>\n",
       "      <td>6.567243</td>\n",
       "      <td>0.492236</td>\n",
       "    </tr>\n",
       "    <tr>\n",
       "      <th>Ketapril</th>\n",
       "      <td>55.235638</td>\n",
       "      <td>53.698743</td>\n",
       "      <td>8.279709</td>\n",
       "      <td>0.603860</td>\n",
       "    </tr>\n",
       "    <tr>\n",
       "      <th>Naftisol</th>\n",
       "      <td>54.331565</td>\n",
       "      <td>52.509285</td>\n",
       "      <td>8.134708</td>\n",
       "      <td>0.596466</td>\n",
       "    </tr>\n",
       "    <tr>\n",
       "      <th>Placebo</th>\n",
       "      <td>54.033581</td>\n",
       "      <td>52.288934</td>\n",
       "      <td>7.821003</td>\n",
       "      <td>0.581331</td>\n",
       "    </tr>\n",
       "    <tr>\n",
       "      <th>Propriva</th>\n",
       "      <td>52.322552</td>\n",
       "      <td>50.854632</td>\n",
       "      <td>6.507770</td>\n",
       "      <td>0.512884</td>\n",
       "    </tr>\n",
       "    <tr>\n",
       "      <th>Ramicane</th>\n",
       "      <td>40.216745</td>\n",
       "      <td>40.673236</td>\n",
       "      <td>4.846308</td>\n",
       "      <td>0.320955</td>\n",
       "    </tr>\n",
       "    <tr>\n",
       "      <th>Stelasyn</th>\n",
       "      <td>54.233149</td>\n",
       "      <td>52.431737</td>\n",
       "      <td>7.710419</td>\n",
       "      <td>0.573111</td>\n",
       "    </tr>\n",
       "    <tr>\n",
       "      <th>Zoniferol</th>\n",
       "      <td>53.236507</td>\n",
       "      <td>51.818479</td>\n",
       "      <td>6.966589</td>\n",
       "      <td>0.516398</td>\n",
       "    </tr>\n",
       "  </tbody>\n",
       "</table>\n",
       "</div>"
      ],
      "text/plain": [
       "                   Mean     Median        Sd       SEM\n",
       "Drug Regimen                                          \n",
       "Capomulin     40.675741  41.557809  4.994774  0.329346\n",
       "Ceftamin      52.591172  51.776157  6.268188  0.469821\n",
       "Infubinol     52.884795  51.820584  6.567243  0.492236\n",
       "Ketapril      55.235638  53.698743  8.279709  0.603860\n",
       "Naftisol      54.331565  52.509285  8.134708  0.596466\n",
       "Placebo       54.033581  52.288934  7.821003  0.581331\n",
       "Propriva      52.322552  50.854632  6.507770  0.512884\n",
       "Ramicane      40.216745  40.673236  4.846308  0.320955\n",
       "Stelasyn      54.233149  52.431737  7.710419  0.573111\n",
       "Zoniferol     53.236507  51.818479  6.966589  0.516398"
      ]
     },
     "execution_count": 2,
     "metadata": {},
     "output_type": "execute_result"
    }
   ],
   "source": [
    "# Generate a summary statistics table of mean, median, variance, standard deviation, and SEM of the tumor volume for each regimen\n",
    "regimen = df.groupby('Drug Regimen')\n",
    "\n",
    "mean = regimen[\"Tumor Volume (mm3)\"].mean()\n",
    "median = regimen[\"Tumor Volume (mm3)\"].median()\n",
    "sd = regimen[\"Tumor Volume (mm3)\"].std()\n",
    "sem = regimen[\"Tumor Volume (mm3)\"].sem()\n",
    "\n",
    "Summary_1= pd.DataFrame({\"Mean\": mean,\"Median\" : median,\"Sd\" : sd,\"SEM\" : sem})\n",
    "Summary_1"
   ]
  },
  {
   "cell_type": "markdown",
   "metadata": {},
   "source": [
    "## Bar plots"
   ]
  },
  {
   "cell_type": "code",
   "execution_count": 3,
   "metadata": {},
   "outputs": [
    {
     "data": {
      "text/plain": [
       "[Text(0, 0, 'Capomulin'),\n",
       " Text(0, 0, 'Ceftamin'),\n",
       " Text(0, 0, 'Infubinol'),\n",
       " Text(0, 0, 'Ketapril'),\n",
       " Text(0, 0, 'Naftisol'),\n",
       " Text(0, 0, 'Placebo'),\n",
       " Text(0, 0, 'Propriva'),\n",
       " Text(0, 0, 'Ramicane'),\n",
       " Text(0, 0, 'Stelasyn'),\n",
       " Text(0, 0, 'Zoniferol')]"
      ]
     },
     "execution_count": 3,
     "metadata": {},
     "output_type": "execute_result"
    },
    {
     "data": {
      "image/png": "[encoded data removed]",
      "text/plain": [
       "<Figure size 1440x576 with 1 Axes>"
      ]
     },
     "metadata": {
      "needs_background": "light"
     },
     "output_type": "display_data"
    }
   ],
   "source": [
    "# Generate a bar plot showing number of data points for each treatment regimen using pandas\n",
    "regimen_num =regimen['Drug Regimen'].count()\n",
    "\n",
    "# Create a bar chart based off of the group series from before\n",
    "regimen_chart = regimen_num.plot(kind='bar',figsize = (20,8))\n",
    "\n",
    "# Set the xlabel and ylabel using class methods\n",
    "regimen_chart.set_xlabel(\"Regimens\")\n",
    "regimen_chart.set_ylabel(\"Num of Regimens\")\n",
    "regimen_chart.set_xticklabels(regimen['Drug Regimen'].unique(),rotation = 45)"
   ]
  },
  {
   "cell_type": "code",
   "execution_count": 4,
   "metadata": {},
   "outputs": [
    {
     "data": {
      "text/plain": [
       "<matplotlib.legend.Legend at 0x2a56d74ec48>"
      ]
     },
     "execution_count": 4,
     "metadata": {},
     "output_type": "execute_result"
    },
    {
     "data": {
      "image/png": "[encoded data removed]",
      "text/plain": [
       "<Figure size 1440x576 with 1 Axes>"
      ]
     },
     "metadata": {
      "needs_background": "light"
     },
     "output_type": "display_data"
    }
   ],
   "source": [
    "# Generate a bar plot showing number of data points for each treatment regimen using pyplot\n",
    "\n",
    "drugnum = df.groupby([\"Drug Regimen\"]).count().reset_index()\n",
    "plt.figure(figsize=(20,8))\n",
    "plt.bar(drugnum[\"Drug Regimen\"],drugnum[\"Mouse ID\"],label = \"Mouse ID\")\n",
    "plt.xlabel(\"Drug Regimen\")\n",
    "plt.ylabel(\"Num of Mouse\")\n",
    "plt.title(\"Number of Mouse per Treatment Regimen\")\n",
    "plt.legend(loc=\"upper right\")\n"
   ]
  },
  {
   "cell_type": "markdown",
   "metadata": {},
   "source": [
    "## Pie plots"
   ]
  },
  {
   "cell_type": "code",
   "execution_count": 5,
   "metadata": {},
   "outputs": [
    {
     "data": {
      "text/plain": [
       "Text(0, 0.5, '')"
      ]
     },
     "execution_count": 5,
     "metadata": {},
     "output_type": "execute_result"
    },
    {
     "data": {
      "image/png": "[encoded data removed]",
      "text/plain": [
       "<Figure size 432x288 with 1 Axes>"
      ]
     },
     "metadata": {},
     "output_type": "display_data"
    }
   ],
   "source": [
    "# Generate a pie plot showing the distribution of female versus male mice using pandas\n",
    "gen_group = mouse_metadata.groupby('Sex')\n",
    "\n",
    "gender = gen_group['Sex'].count()\n",
    "colors = [\"orange\",\"skyblue\"]\n",
    "gen_pie = gender.plot(kind='pie', startangle = 90, colors = colors, autopct = \"%1.1f%%\",title = \"Num Mouse by Gender\")\n",
    "gen_pie.set_ylabel(\"\")"
   ]
  },
  {
   "cell_type": "code",
   "execution_count": 6,
   "metadata": {},
   "outputs": [
    {
     "data": {
      "text/plain": [
       "Text(0.5, 1.0, 'Num Mouse by Gender')"
      ]
     },
     "execution_count": 6,
     "metadata": {},
     "output_type": "execute_result"
    },
    {
     "data": {
      "image/png": "[encoded data removed]",
      "text/plain": [
       "<Figure size 432x288 with 1 Axes>"
      ]
     },
     "metadata": {},
     "output_type": "display_data"
    }
   ],
   "source": [
    "# Generate a pie plot showing the distribution of female versus male mice using pyplot\n",
    "sex = gen_group['Sex'].count()\n",
    "labels = ['Female','Male']\n",
    "plt.pie(gender, colors=colors,autopct=\"%1.1f%%\",shadow=True, startangle=90)\n",
    "plt.title(\"Num Mouse by Gender\")"
   ]
  },
  {
   "cell_type": "markdown",
   "metadata": {},
   "source": [
    "## Quartiles, outliers and boxplots"
   ]
  },
  {
   "cell_type": "code",
   "execution_count": 7,
   "metadata": {},
   "outputs": [
    {
     "data": {
      "text/html": [
       "<div>\n",
       "<style scoped>\n",
       "    .dataframe tbody tr th:only-of-type {\n",
       "        vertical-align: middle;\n",
       "    }\n",
       "\n",
       "    .dataframe tbody tr th {\n",
       "        vertical-align: top;\n",
       "    }\n",
       "\n",
       "    .dataframe thead th {\n",
       "        text-align: right;\n",
       "    }\n",
       "</style>\n",
       "<table border=\"1\" class=\"dataframe\">\n",
       "  <thead>\n",
       "    <tr style=\"text-align: right;\">\n",
       "      <th></th>\n",
       "      <th>Name</th>\n",
       "      <th>Lower_Bound</th>\n",
       "      <th>Upper_Bound</th>\n",
       "      <th>IQR</th>\n",
       "    </tr>\n",
       "  </thead>\n",
       "  <tbody>\n",
       "    <tr>\n",
       "      <th>0</th>\n",
       "      <td>Capomulin</td>\n",
       "      <td>20.704562</td>\n",
       "      <td>51.832015</td>\n",
       "      <td>7.781863</td>\n",
       "    </tr>\n",
       "    <tr>\n",
       "      <th>1</th>\n",
       "      <td>Ramicane</td>\n",
       "      <td>19.690480</td>\n",
       "      <td>49.799000</td>\n",
       "      <td>7.527130</td>\n",
       "    </tr>\n",
       "    <tr>\n",
       "      <th>2</th>\n",
       "      <td>Infubinol</td>\n",
       "      <td>55.357776</td>\n",
       "      <td>75.082244</td>\n",
       "      <td>4.931117</td>\n",
       "    </tr>\n",
       "    <tr>\n",
       "      <th>3</th>\n",
       "      <td>Ceftamin</td>\n",
       "      <td>52.293507</td>\n",
       "      <td>76.667868</td>\n",
       "      <td>6.093590</td>\n",
       "    </tr>\n",
       "  </tbody>\n",
       "</table>\n",
       "</div>"
      ],
      "text/plain": [
       "        Name  Lower_Bound  Upper_Bound       IQR\n",
       "0  Capomulin    20.704562    51.832015  7.781863\n",
       "1   Ramicane    19.690480    49.799000  7.527130\n",
       "2  Infubinol    55.357776    75.082244  4.931117\n",
       "3   Ceftamin    52.293507    76.667868  6.093590"
      ]
     },
     "execution_count": 7,
     "metadata": {},
     "output_type": "execute_result"
    }
   ],
   "source": [
    "# Calculate the final tumor volume of each mouse across four of the most promising treatment regimens. \n",
    "# Capomulin, Ramicane, Infubinol, and Ceftamin.\n",
    "# Calculate the IQR and quantitatively determine if there are any potential outliers. \n",
    "\n",
    "treat_list = ['Capomulin','Ramicane','Infubinol','Ceftamin']\n",
    "\n",
    "final_df = df[(df.Timepoint == 45)]\n",
    "final_df = final_df.rename(columns = {'Drug Regimen':\"Regimen\"})\n",
    "final_df = final_df.loc[final_df['Regimen'].isin(treat_list)]\n",
    "final_df = final_df.drop(columns = ['Weight (g)','Age_months','Metastatic Sites','Sex','Timepoint'])\n",
    "\n",
    "#Capomulin\n",
    "treat_lowerb = []\n",
    "treat_upperb = []\n",
    "treat_iqr_lst = []\n",
    "\n",
    "for treat in treat_list:\n",
    "    treat_df = final_df.loc[final_df['Regimen'] == treat]\n",
    "    treat_quart = treat_df['Tumor Volume (mm3)'].quantile([.25,.5,.75])\n",
    "    treat_lower = treat_quart[0.25]\n",
    "    treat_upper = treat_quart[0.75]\n",
    "    treat_iqr = treat_upper - treat_lower\n",
    "    lowerb = treat_lower - (1.5*treat_iqr)\n",
    "    upperb = treat_upper + (1.5*treat_iqr)\n",
    "    treat_lowerb.append(lowerb)\n",
    "    treat_upperb.append(upperb)\n",
    "    treat_iqr_lst.append(treat_iqr)\n",
    "\n",
    "treat_df = pd.DataFrame({'Name':treat_list,\n",
    "                         'Lower_Bound':treat_lowerb,\n",
    "                        'Upper_Bound':treat_upperb,\n",
    "                        'IQR':treat_iqr_lst})\n",
    "\n",
    "treat_df"
   ]
  },
  {
   "cell_type": "code",
   "execution_count": 8,
   "metadata": {},
   "outputs": [
    {
     "data": {
      "image/png": "[encoded data removed]",
      "text/plain": [
       "<Figure size 432x288 with 1 Axes>"
      ]
     },
     "metadata": {
      "needs_background": "light"
     },
     "output_type": "display_data"
    }
   ],
   "source": [
    "# Generate a box plot of the final tumor volume of each mouse across four regimens of interest\n",
    "\n",
    "fdata = []\n",
    "for drug in treat_list:\n",
    "    drug_df = final_df.loc[final_df['Regimen'] == drug]\n",
    "    drug_lst = drug_df['Tumor Volume (mm3)']\n",
    "    fdata.append(drug_lst)\n",
    "\n",
    "fig, ax = plt.subplots()\n",
    "ax.set_title('Final Tumor Vol of Each mouse for Four Regimens')\n",
    "ax.boxplot(fdata)\n",
    "\n",
    "plt.show()\n",
    "\n"
   ]
  },
  {
   "cell_type": "markdown",
   "metadata": {},
   "source": [
    "## Line and scatter plots"
   ]
  },
  {
   "cell_type": "code",
   "execution_count": 9,
   "metadata": {},
   "outputs": [
    {
     "data": {
      "text/plain": [
       "Text(0.5, 0, 'timepoints')"
      ]
     },
     "execution_count": 9,
     "metadata": {},
     "output_type": "execute_result"
    },
    {
     "data": {
      "image/png": "[encoded data removed]",
      "text/plain": [
       "<Figure size 432x288 with 1 Axes>"
      ]
     },
     "metadata": {
      "needs_background": "light"
     },
     "output_type": "display_data"
    }
   ],
   "source": [
    "# Generate a line plot of time point versus tumor volume for a mouse treated with Capomulin\n",
    "ctime_df = df.loc[df['Drug Regimen'] == 'Capomulin']\n",
    "#PICK a random mouse ID: s185\n",
    "ctime_df = ctime_df.loc[ctime_df['Mouse ID'] == 's185']\n",
    "ctime_df = ctime_df.drop(columns = ['Weight (g)','Age_months','Metastatic Sites','Sex','Mouse ID','Drug Regimen'])\n",
    "\n",
    "vol = ctime_df[\"Tumor Volume (mm3)\"]\n",
    "vol_plot = vol.plot()\n",
    "vol_plot.set_xlabel(\"timepoints\")"
   ]
  },
  {
   "cell_type": "code",
   "execution_count": 10,
   "metadata": {},
   "outputs": [
    {
     "data": {
      "text/plain": [
       "Text(0.5, 1.0, 'Avg Tumor Volume by Weight')"
      ]
     },
     "execution_count": 10,
     "metadata": {},
     "output_type": "execute_result"
    },
    {
     "data": {
      "image/png": "[encoded data removed]",
      "text/plain": [
       "<Figure size 432x288 with 1 Axes>"
      ]
     },
     "metadata": {
      "needs_background": "light"
     },
     "output_type": "display_data"
    }
   ],
   "source": [
    "# Generate a scatter plot of mouse weight versus average tumor volume for the Capomulin regimen\n",
    "scatter_df = df.loc[df[\"Drug Regimen\"] == \"Capomulin\"].groupby(\"Mouse ID\").mean()\n",
    "scatter_df = scatter_df[[\"Weight (g)\", \"Tumor Volume (mm3)\"]]\n",
    "plt.scatter(scatter_df[\"Weight (g)\"],scatter_df[\"Tumor Volume (mm3)\"])\n",
    "plt.xlabel(\"Weight\")\n",
    "plt.ylabel(\"Avg Tumor Volume (mm3)\")\n",
    "plt.title(\"Avg Tumor Volume by Weight\")"
   ]
  },
  {
   "cell_type": "code",
   "execution_count": 11,
   "metadata": {},
   "outputs": [
    {
     "name": "stdout",
     "output_type": "stream",
     "text": [
      "Correlation between Weight and Average Tumor Volume for Capomulin is 0.84\n"
     ]
    },
    {
     "data": {
      "image/png": "[encoded data removed]",
      "text/plain": [
       "<Figure size 432x288 with 1 Axes>"
      ]
     },
     "metadata": {
      "needs_background": "light"
     },
     "output_type": "display_data"
    }
   ],
   "source": [
    "# Calculate the correlation coefficient and linear regression model for mouse weight and average tumor volume for the Capomulin regimen\n",
    "\n",
    "corr_weight = st.pearsonr(scatter_df[\"Weight (g)\"],scatter_df[\"Tumor Volume (mm3)\"])\n",
    "print(f\"Correlation between Weight and Average Tumor Volume for Capomulin is {round(corr_weight[0],2)}\")\n",
    "\n",
    "#Linear Regression Model\n",
    "lin_x = scatter_df[\"Weight (g)\"]\n",
    "lin_y = scatter_df[\"Tumor Volume (mm3)\"]\n",
    "(slope, intercept, rvalue, pvalue, stderr) = linregress(lin_x, lin_y)\n",
    "reg_val = lin_x * slope + intercept\n",
    "line_equation = \"y = \" + str(round(slope,2)) + \"x + \" + str(round(intercept,2))\n",
    "plt.scatter(lin_x, lin_y)\n",
    "plt.plot(lin_x, reg_val,\"r-\")\n",
    "#plt.annotate(line_eq,(20,38),fontsize=15,color=\"red\")\n",
    "plt.show()"
   ]
  },
  {
   "cell_type": "code",
   "execution_count": null,
   "metadata": {},
   "outputs": [],
   "source": []
  }
 ],
 "metadata": {
  "anaconda-cloud": {},
  "kernelspec": {
   "display_name": "Python 3",
   "language": "python",
   "name": "python3"
  },
  "language_info": {
   "codemirror_mode": {
    "name": "ipython",
    "version": 3
   },
   "file_extension": ".py",
   "mimetype": "text/x-python",
   "name": "python",
   "nbconvert_exporter": "python",
   "pygments_lexer": "ipython3",
   "version": "3.7.4"
  }
 },
 "nbformat": 4,
 "nbformat_minor": 4
}
